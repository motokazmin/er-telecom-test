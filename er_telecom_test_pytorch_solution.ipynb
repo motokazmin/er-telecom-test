{
  "nbformat": 4,
  "nbformat_minor": 0,
  "metadata": {
    "colab": {
      "name": "er-telecom-test-pytorch-solution.ipynb",
      "provenance": []
    },
    "kernelspec": {
      "name": "python3",
      "display_name": "Python 3"
    },
    "language_info": {
      "name": "python"
    }
  },
  "cells": [
    {
      "cell_type": "code",
      "metadata": {
        "id": "gQuvPV8MN7gL"
      },
      "source": [
        "import pandas as pd\n",
        "import numpy as np\n",
        "import torch\n",
        "from torch.autograd import Variable\n",
        "import torch.nn.functional as F\n",
        "import torch.utils.data as Data\n",
        "from torch.utils.data import DataLoader, Dataset\n",
        "from torch import cuda\n",
        "import math\n",
        "import torch.optim.lr_scheduler as sched\n",
        "\n",
        "import matplotlib.pyplot as plt\n",
        "%matplotlib inline\n",
        "\n",
        "import imageio"
      ],
      "execution_count": 1,
      "outputs": []
    },
    {
      "cell_type": "code",
      "metadata": {
        "id": "6QhQx73cQuwc"
      },
      "source": [
        "def make_train_gif(min_val, max_val, Z, predictions, samples_rmse):\n",
        "    plt.cla()\n",
        "    ax.set_title('Regression Analysis - Batches', fontsize=35)\n",
        "    ax.set_xlabel('Independent variable', fontsize=24)\n",
        "    ax.set_ylabel('Dependent variable', fontsize=24)\n",
        "    ax.set_xlim(min_val, max_val)\n",
        "    ax.set_ylim(min_val, max_val)\n",
        "    ax.scatter(Z.numpy(), Z.numpy(), color = \"blue\", alpha=0.3)\n",
        "    ax.scatter(Z.numpy(), predictions.numpy(), color='green', alpha=0.3)\n",
        "    ax.text(0.8*max_val, 1.2*min_val, 'Epoch = %d' % epoch,\n",
        "            fontdict={'size': 24, 'color':  'red'})\n",
        "    ax.text(0.8*max_val, 1.5*min_val, 'Loss = %.4f' % samples_rmse,\n",
        "            fontdict={'size': 24, 'color':  'red'})\n",
        "\n",
        "    fig.canvas.draw()\n",
        "    image = np.frombuffer(fig.canvas.tostring_rgb(), dtype='uint8')\n",
        "    image  = image.reshape(fig.canvas.get_width_height()[::-1] + (3,))\n",
        "\n",
        "    my_images.append(image)      \n"
      ],
      "execution_count": 16,
      "outputs": []
    },
    {
      "cell_type": "code",
      "metadata": {
        "id": "WCKrCH8Ck68I"
      },
      "source": [
        "class DatasetUnknownFunc(Dataset):\n",
        "    def __init__(self, min_val = 1000, max_val = 2000):\n",
        "        xy = np.mgrid[min_val:max_val, min_val:max_val].reshape(2, -1)\n",
        "        self.data = pd.DataFrame({'X' : xy[0], 'Y' : xy[1]})\n",
        "        #self.data['Z'] = (self.data['X'] != self.data['Y']).astype('float')\n",
        "        self.data['Z'] = self.data['X'] + self.data['Y']\n",
        "        \n",
        "    def __len__(self):\n",
        "        return len(self.data)\n",
        "    \n",
        "    def __getitem__(self, index):\n",
        "        return {\n",
        "          'X': torch.tensor(self.data.X[index], dtype=torch.float),\n",
        "          'Y': torch.tensor(self.data.Y[index], dtype=torch.float),\n",
        "          'Z': torch.tensor(self.data.Z[index], dtype=torch.float),\n",
        "          'xy' : torch.tensor([self.data.X[index], self.data.Y[index]], dtype=torch.float)\n",
        "      } \n",
        "\n",
        "class Net(torch.nn.Module):\n",
        "    def __init__(self, n_feature, n_hidden, n_output, type = 2):\n",
        "        super(Net, self).__init__()\n",
        "        self.type = type\n",
        "        if type == 1:\n",
        "          self.hidden = torch.nn.Linear(n_feature, n_hidden)   # hidden layer\n",
        "          self.relu = torch.nn.ReLU()\n",
        "          self.predict = torch.nn.Linear(n_hidden, n_output)   # output layer\n",
        "        elif type == 2:\n",
        "          self.hidden = torch.nn.Linear(n_feature, n_hidden)   # hidden layer\n",
        "          self.relu = torch.nn.LeakyReLU()\n",
        "          self.predict = torch.nn.Linear(n_hidden, n_output)   # output layer\n",
        "        else:\n",
        "          self.hidden = torch.nn.Linear(n_feature, n_hidden)\n",
        "          self.relu = torch.nn.LeakyReLU()\n",
        "          self.hidden1 = torch.nn.Linear(n_hidden, 100)\n",
        "          self.relu1 = torch.nn.LeakyReLU(),\n",
        "          self.predict = torch.nn.Linear(100, n_output)\n",
        "\n",
        "    def forward(self, xy):\n",
        "      if self.type == 1:\n",
        "        xy = self.hidden(xy)\n",
        "        xy = self.relu(xy)\n",
        "        z = self.predict(xy)\n",
        "      elif self.type == 2:\n",
        "        xy = self.hidden(xy)\n",
        "        xy = self.relu(xy)\n",
        "        z = self.predict(xy)\n",
        "      else:\n",
        "        xy = self.hidden(xy)\n",
        "        xy = self.relu(xy)\n",
        "        xy = self.hidden1(xy)\n",
        "        xy = self.relu1(xy)\n",
        "        z = self.predict(xy)\n",
        "\n",
        "      return z\n",
        "\n",
        "\n",
        "def rmspe_func(y_pred, y_true):\n",
        "    error = 0\n",
        "    for val1, val2 in zip(y_pred.cpu().numpy(), y_true.cpu().numpy()):\n",
        "        error += (val2 - val1)*(val2 - val1)\n",
        "    return error"
      ],
      "execution_count": 17,
      "outputs": []
    },
    {
      "cell_type": "code",
      "metadata": {
        "id": "cHTGpb1KunHx"
      },
      "source": [
        "device = 'cuda' if cuda.is_available() else 'cpu'\n",
        "\n",
        "BATCH_SIZE = 20\n",
        "EPOCH = 8\n",
        "min_val = 100\n",
        "max_val = 200\n",
        "\n",
        "model = Net(n_feature=2, n_hidden=10, n_output=1, type = 1)\n",
        "optimizer = torch.optim.SGD(model.parameters(), lr=0.2)\n",
        "\n",
        "scheduler = None\n",
        "\n",
        "loss_function = torch.nn.MSELoss()\n",
        "\n",
        "train_dataset = DatasetUnknownFunc(min_val = min_val, max_val = max_val)\n",
        "training_loader = Data.DataLoader(\n",
        "    dataset=train_dataset, \n",
        "    batch_size=BATCH_SIZE, \n",
        "    shuffle=True, num_workers=2)"
      ],
      "execution_count": 18,
      "outputs": []
    },
    {
      "cell_type": "code",
      "metadata": {
        "colab": {
          "base_uri": "https://localhost:8080/",
          "height": 790
        },
        "id": "CO8E8CpTzmjI",
        "outputId": "811c9129-5ae3-4b6b-eaee-f22e955fbca0"
      },
      "source": [
        "make_gif = True\n",
        "\n",
        "if make_gif == True:\n",
        "  my_images = []\n",
        "  fig, ax = plt.subplots(figsize=(16,10))\n",
        "\n",
        "model.train()\n",
        "for epoch in range(EPOCH):\n",
        "  rmse = 0\n",
        "  nb_tr_examples = 0\n",
        "\n",
        "  for step ,data in enumerate(training_loader, 0):\n",
        "      xy = data['xy'].to(device, dtype = torch.float)\n",
        "      Z = data['Z'].to(device, dtype = torch.float)\n",
        "      outputs = model(xy)\n",
        "\n",
        "      loss = loss_function(outputs.view(-1), Z.view(-1))\n",
        "      rmse += rmspe_func(outputs.data, Z)\n",
        "      nb_tr_examples+=xy.size(0)\n",
        "\n",
        "      optimizer.zero_grad()\n",
        "      loss.backward()\n",
        "      optimizer.step()\n",
        "      if scheduler != None:\n",
        "        scheduler.step()\n",
        "\n",
        "      samples_rmse = math.sqrt(rmse/nb_tr_examples)\n",
        "      if (nb_tr_examples % 1000000 == 0):\n",
        "        print(f\"Training RMSE num trained samples: ({nb_tr_examples}): {samples_rmse}\")\n",
        "\n",
        "      if (make_gif == True) & (step == 0):\n",
        "        make_train_gif(min_val, 2*max_val, Z, outputs.data, samples_rmse)\n",
        "\n",
        "  epoch_rmse = math.sqrt(rmse/nb_tr_examples)\n",
        "  print(f\"Training RMSE Epoch({epoch}): {epoch_rmse}\")\n",
        "\n",
        "  if make_gif == True:\n",
        "    imageio.mimsave('./curve_model_batch.gif', my_images, fps=12)"
      ],
      "execution_count": 19,
      "outputs": [
        {
          "output_type": "stream",
          "name": "stdout",
          "text": [
            "Training RMSE Epoch(0): 654335316.8970957\n",
            "Training RMSE Epoch(1): 41.0731858004328\n",
            "Training RMSE Epoch(2): 41.035626075665945\n",
            "Training RMSE Epoch(3): 41.11278076447153\n",
            "Training RMSE Epoch(4): 41.09511642214924\n",
            "Training RMSE Epoch(5): 41.07467772716695\n",
            "Training RMSE Epoch(6): 41.093785646372375\n",
            "Training RMSE Epoch(7): 41.114744815101766\n"
          ]
        },
        {
          "output_type": "display_data",
          "data": {
            "image/png": "[encoded data removed]",
            "text/plain": [
              "<Figure size 1152x720 with 1 Axes>"
            ]
          },
          "metadata": {
            "needs_background": "light"
          }
        }
      ]
    },
    {
      "cell_type": "code",
      "metadata": {
        "colab": {
          "base_uri": "https://localhost:8080/"
        },
        "collapsed": true,
        "id": "3ZWU2SH9a6Tw",
        "outputId": "4fac011a-76da-4e04-ffdc-922b4da3a8ee"
      },
      "source": [
        "testing_loader = DatasetUnknownFunc(min_val = 1, max_val = 10)\n",
        "testing_loader = Data.DataLoader(\n",
        "    dataset=testing_loader, \n",
        "    batch_size=10, \n",
        "    shuffle=False, num_workers=2)\n",
        "\n",
        "rmse = 0; nb_tr_examples = 0;\n",
        "\n",
        "with torch.no_grad():\n",
        "  model.eval()\n",
        "  for _, data in enumerate(testing_loader, 0):\n",
        "    xy = data['xy'].to(device, dtype = torch.float)\n",
        "    outputs = model(xy)\n",
        "            \n",
        "    rmse += rmspe_func(outputs.data, Z)\n",
        "    nb_tr_examples+=xy.size(0)\n",
        "        \n",
        "  rmse = math.sqrt(rmse/nb_tr_examples)\n",
        "    \n",
        "print(f\"Validation RMSE: {rmse}\\n\")"
      ],
      "execution_count": 20,
      "outputs": [
        {
          "output_type": "stream",
          "name": "stdout",
          "text": [
            "Validation RMSE: 43.250407839930396\n",
            "\n"
          ]
        }
      ]
    }
  ]
}