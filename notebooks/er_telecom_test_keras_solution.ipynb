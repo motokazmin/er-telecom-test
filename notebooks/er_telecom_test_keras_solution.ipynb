{
  "nbformat": 4,
  "nbformat_minor": 0,
  "metadata": {
    "colab": {
      "name": "er-telecom-test-keras-solution.ipynb",
      "provenance": []
    },
    "kernelspec": {
      "name": "python3",
      "display_name": "Python 3"
    },
    "language_info": {
      "name": "python"
    }
  },
  "cells": [
    {
      "cell_type": "code",
      "metadata": {
        "id": "vFrKz9pMFsAH"
      },
      "source": [
        "import tensorflow as tf\n",
        "from tensorflow import keras\n",
        "from tensorflow.keras import layers\n",
        "import numpy as np\n",
        "import pandas as pd\n",
        "\n",
        "from keras.layers import Dense, Dropout, BatchNormalization\n",
        "from keras.callbacks import TensorBoard\n",
        "from keras.callbacks import ModelCheckpoint\n",
        "import random\n",
        "import datetime, os"
      ],
      "execution_count": null,
      "outputs": []
    },
    {
      "cell_type": "code",
      "metadata": {
        "id": "XfVl8mvDNDsj"
      },
      "source": [
        "def data_generator(min_val = 1000, max_val = 2000, balance_data = True):\n",
        "  xy = np.mgrid[min_val:max_val, min_val:max_val].reshape(2, -1)\n",
        "  df = pd.DataFrame({'X' : xy[0], 'Y' : xy[1]})\n",
        "\n",
        "  df['Z'] = (df['X'] != df['Y']).astype('float')\n",
        "  df['X_minus_Y'] = df.X - df.Y\n",
        "\n",
        "  if balance_data == True:\n",
        "    df1 = df[df.X == df.Y]\n",
        "    df2 = df[df.X != df.Y].sample(len(df1))\n",
        "    df = pd.concat([df1, df2], ignore_index=True, sort=False).reset_index(drop = True)\n",
        "\n",
        "  return df\n",
        "\n",
        "def make_model():\n",
        "\n",
        "  initial_learning_rate = 0.1\n",
        "  lr_schedule = keras.optimizers.schedules.ExponentialDecay(initial_learning_rate, decay_steps=100000, decay_rate=0.96, staircase=True)\n",
        "  opt = keras.optimizers.Adam(learning_rate=lr_schedule)\n",
        "  #opt = tf.keras.optimizers.Adam(learning_rate)\n",
        "\n",
        "  inputs = keras.Input(shape=(1,), name=\"xy\")\n",
        "  x = layers.Dense(128, activation=tf.keras.activations.relu, name=\"dense_1\")(inputs)\n",
        "  x = layers.Dense(64, activation=tf.keras.activations.relu, name=\"dense_2\")(x)\n",
        "  outputs = layers.Dense(1, name=\"predictions\")(x)\n",
        "\n",
        "  model = keras.Model(inputs=inputs, outputs=outputs)\n",
        "\n",
        "  model.compile(\n",
        "      optimizer=opt,  # Optimizer\n",
        "      loss=keras.losses.MSE\n",
        "  )\n",
        "\n",
        "  return model"
      ],
      "execution_count": null,
      "outputs": []
    },
    {
      "cell_type": "code",
      "metadata": {
        "id": "G4WlEDjcO5gc"
      },
      "source": [
        "TRAIN_BATCH = 32\n",
        "TEST_BATCH = 4\n",
        "#LR = 0.0001\n",
        "EPOCHS = 200\n",
        "\n",
        "random.seed(42)"
      ],
      "execution_count": null,
      "outputs": []
    },
    {
      "cell_type": "code",
      "metadata": {
        "id": "sSaHVZCXYFK4"
      },
      "source": [
        "train = data_generator()\n",
        "train_dataset = tf.data.Dataset.from_tensor_slices((train[['X_minus_Y']], train['Z']))\n",
        "train_dataset = train_dataset.shuffle(buffer_size=2000, seed=42).batch(TRAIN_BATCH)\n",
        "\n",
        "test = data_generator(min_val = 1, max_val = 10, balance_data=False)\n",
        "test_dataset = tf.data.Dataset.from_tensor_slices((test[['X_minus_Y']], test['Z']))\n",
        "test_dataset = test_dataset.batch(TEST_BATCH)"
      ],
      "execution_count": null,
      "outputs": []
    },
    {
      "cell_type": "code",
      "metadata": {
        "id": "woZd1ffZS_ta"
      },
      "source": [
        "model = make_model()"
      ],
      "execution_count": null,
      "outputs": []
    },
    {
      "cell_type": "code",
      "metadata": {
        "id": "4S19-NblHenE"
      },
      "source": [
        "print('Training model...')\n",
        "\n",
        "logdir = os.path.join(\"logs\", datetime.datetime.now().strftime(\"%Y%m%d-%H%M%S\"))\n",
        "tensorboard_callback = tf.keras.callbacks.TensorBoard(logdir, histogram_freq=1)\n",
        "\n",
        "model.fit(train_dataset, epochs=EPOCHS, shuffle=False, callbacks=[tensorboard_callback])"
      ],
      "execution_count": null,
      "outputs": []
    },
    {
      "cell_type": "code",
      "metadata": {
        "id": "rBobZxJcpDfb"
      },
      "source": [
        "%load_ext tensorboard\n",
        "%tensorboard --logdir logs"
      ],
      "execution_count": null,
      "outputs": []
    },
    {
      "cell_type": "code",
      "metadata": {
        "id": "r84zuN1xTILE"
      },
      "source": [
        "print(\"Evaluate\")\n",
        "model.evaluate(test_dataset)"
      ],
      "execution_count": null,
      "outputs": []
    },
    {
      "cell_type": "code",
      "metadata": {
        "id": "hLjq29uwWUuO"
      },
      "source": [
        "print('Make predictions')\n",
        "predictions = model.predict(test[['X_minus_Y']])\n",
        "test['predictions'] = predictions.reshape(-1)\n",
        "test.sort_values('predictions').head(40)"
      ],
      "execution_count": null,
      "outputs": []
    },
    {
      "cell_type": "code",
      "metadata": {
        "id": "YMXxgOCnm8XP"
      },
      "source": [
        "model.save('un_func_model')"
      ],
      "execution_count": null,
      "outputs": []
    },
    {
      "cell_type": "code",
      "metadata": {
        "id": "hCzrlT68n2Re"
      },
      "source": [
        "converter = tf.lite.TFLiteConverter.from_saved_model('un_func_model1') # path to the SavedModel directory\n",
        "tflite_model = converter.convert()\n",
        "\n",
        "# Save the model.\n",
        "with open('model.tflite', 'wb') as f:\n",
        "  f.write(tflite_model)"
      ],
      "execution_count": null,
      "outputs": []
    }
  ]
}